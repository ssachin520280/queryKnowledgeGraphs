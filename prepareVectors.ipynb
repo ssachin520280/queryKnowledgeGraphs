{
 "cells": [
  {
   "cell_type": "code",
   "execution_count": 1,
   "metadata": {},
   "outputs": [],
   "source": [
    "from dotenv import load_dotenv\n",
    "import os\n",
    "\n",
    "from langchain_community.graphs import Neo4jGraph\n",
    "\n",
    "# Warning control\n",
    "import warnings\n",
    "warnings.filterwarnings(\"ignore\")"
   ]
  },
  {
   "cell_type": "code",
   "execution_count": 3,
   "metadata": {},
   "outputs": [],
   "source": [
    "# Load from environment\n",
    "load_dotenv('.env', override=True)\n",
    "NEO4J_URI = os.getenv('NEO4J_URI')\n",
    "NEO4J_USERNAME = os.getenv('NEO4J_USERNAME')\n",
    "NEO4J_PASSWORD = os.getenv('NEO4J_PASSWORD')\n",
    "NEO4J_DATABASE = os.getenv('NEO4J_DATABASE')\n",
    "OPENAI_API_KEY = os.getenv('OPENAI_API_KEY')"
   ]
  },
  {
   "cell_type": "code",
   "execution_count": 4,
   "metadata": {},
   "outputs": [],
   "source": [
    "kg = Neo4jGraph(\n",
    "    url=NEO4J_URI, username=NEO4J_USERNAME, password=NEO4J_PASSWORD, database=NEO4J_DATABASE\n",
    ")"
   ]
  },
  {
   "cell_type": "code",
   "execution_count": 6,
   "metadata": {},
   "outputs": [
    {
     "data": {
      "text/plain": [
       "[]"
      ]
     },
     "execution_count": 6,
     "metadata": {},
     "output_type": "execute_result"
    }
   ],
   "source": [
    "kg.query(\"\"\"\n",
    "    CREATE VECTOR INDEX movie_tagline_embeddings IF NOT EXISTS\n",
    "    FOR (m:Movie) ON (m.taglineEmbedding)\n",
    "    OPTIONS { indexConfig: {\n",
    "      `vector.dimensions`: 1536,\n",
    "      `vector.similarity_function`: 'cosine'\n",
    "    }}\"\"\"\n",
    ")"
   ]
  },
  {
   "cell_type": "code",
   "execution_count": 7,
   "metadata": {},
   "outputs": [
    {
     "data": {
      "text/plain": [
       "[{'id': 2,\n",
       "  'name': 'movie_tagline_embeddings',\n",
       "  'state': 'ONLINE',\n",
       "  'populationPercent': 100.0,\n",
       "  'type': 'VECTOR',\n",
       "  'entityType': 'NODE',\n",
       "  'labelsOrTypes': ['Movie'],\n",
       "  'properties': ['taglineEmbedding'],\n",
       "  'indexProvider': 'vector-2.0',\n",
       "  'owningConstraint': None,\n",
       "  'lastRead': None,\n",
       "  'readCount': 0}]"
      ]
     },
     "execution_count": 7,
     "metadata": {},
     "output_type": "execute_result"
    }
   ],
   "source": [
    "kg.query(\"\"\"\n",
    "    SHOW VECTOR INDEXES\n",
    "    \"\"\"\n",
    ")"
   ]
  },
  {
   "cell_type": "code",
   "execution_count": 23,
   "metadata": {},
   "outputs": [
    {
     "data": {
      "text/plain": [
       "[]"
      ]
     },
     "execution_count": 23,
     "metadata": {},
     "output_type": "execute_result"
    }
   ],
   "source": [
    "kg.query(\"\"\"\n",
    "    MATCH (movie:Movie) WHERE movie.tagline IS NOT NULL\n",
    "    WITH movie, genai.vector.encode(\n",
    "        movie.tagline, \n",
    "        \"OpenAI\", \n",
    "        {\n",
    "          token: $openAiApiKey\n",
    "        }) AS vector\n",
    "    CALL db.create.setNodeVectorProperty(movie, \"taglineEmbedding\", vector)\n",
    "    \"\"\", \n",
    "    params={\"openAiApiKey\":OPENAI_API_KEY} )"
   ]
  },
  {
   "cell_type": "code",
   "execution_count": 24,
   "metadata": {},
   "outputs": [],
   "source": [
    "result = kg.query(\"\"\"\n",
    "    MATCH (m:Movie) \n",
    "    WHERE m.tagline IS NOT NULL\n",
    "    RETURN m.tagline, m.taglineEmbedding\n",
    "    LIMIT 1\n",
    "    \"\"\"\n",
    ")"
   ]
  },
  {
   "cell_type": "code",
   "execution_count": 25,
   "metadata": {},
   "outputs": [
    {
     "data": {
      "text/plain": [
       "'Welcome to the Real World'"
      ]
     },
     "execution_count": 25,
     "metadata": {},
     "output_type": "execute_result"
    }
   ],
   "source": [
    "result[0]['m.tagline']"
   ]
  },
  {
   "cell_type": "code",
   "execution_count": 28,
   "metadata": {},
   "outputs": [
    {
     "data": {
      "text/plain": [
       "[0.017445066943764687,\n",
       " -0.005481892731040716,\n",
       " -0.002013522433117032,\n",
       " -0.025571243837475777,\n",
       " -0.014404304325580597,\n",
       " 0.016737302765250206,\n",
       " -0.017078077420592308,\n",
       " 0.000485358847072348,\n",
       " -0.025217361748218536,\n",
       " -0.029516370967030525,\n",
       " 0.0005074764485470951,\n",
       " 0.02000088058412075,\n",
       " -0.006091355811804533,\n",
       " -0.004649614915251732,\n",
       " 0.008067196235060692,\n",
       " -0.002944100880995393,\n",
       " 0.02686881087720394,\n",
       " -0.03064355067908764,\n",
       " 0.005721090827137232,\n",
       " -0.007844381965696812]"
      ]
     },
     "execution_count": 28,
     "metadata": {},
     "output_type": "execute_result"
    }
   ],
   "source": [
    "result[0]['m.taglineEmbedding'][:20]"
   ]
  },
  {
   "cell_type": "code",
   "execution_count": 22,
   "metadata": {},
   "outputs": [
    {
     "data": {
      "text/plain": [
       "1536"
      ]
     },
     "execution_count": 22,
     "metadata": {},
     "output_type": "execute_result"
    }
   ],
   "source": [
    "len(result[0]['m.taglineEmbedding'])"
   ]
  },
  {
   "cell_type": "code",
   "execution_count": 29,
   "metadata": {},
   "outputs": [],
   "source": [
    "question = \"What movies are about love?\""
   ]
  },
  {
   "cell_type": "code",
   "execution_count": 30,
   "metadata": {},
   "outputs": [
    {
     "data": {
      "text/plain": [
       "[{'movie.title': 'Joe Versus the Volcano',\n",
       "  'movie.tagline': 'A story of love, lava and burning desire.',\n",
       "  'score': 0.8997650146484375},\n",
       " {'movie.title': 'As Good as It Gets',\n",
       "  'movie.tagline': 'A comedy from the heart that goes for the throat.',\n",
       "  'score': 0.896209716796875},\n",
       " {'movie.title': 'Snow Falling on Cedars',\n",
       "  'movie.tagline': 'First loves last. Forever.',\n",
       "  'score': 0.8946533203125},\n",
       " {'movie.title': 'Sleepless in Seattle',\n",
       "  'movie.tagline': 'What if someone you never met, someone you never saw, someone you never knew was the only someone for you?',\n",
       "  'score': 0.8878631591796875},\n",
       " {'movie.title': \"You've Got Mail\",\n",
       "  'movie.tagline': 'At odds in life... in love on-line.',\n",
       "  'score': 0.8854827880859375}]"
      ]
     },
     "execution_count": 30,
     "metadata": {},
     "output_type": "execute_result"
    }
   ],
   "source": [
    "kg.query(\"\"\"\n",
    "    WITH genai.vector.encode(\n",
    "        $question, \n",
    "        \"OpenAI\", \n",
    "        {\n",
    "          token: $openAiApiKey\n",
    "        }) AS question_embedding\n",
    "    CALL db.index.vector.queryNodes(\n",
    "        'movie_tagline_embeddings', \n",
    "        $top_k, \n",
    "        question_embedding\n",
    "        ) YIELD node AS movie, score\n",
    "    RETURN movie.title, movie.tagline, score\n",
    "    \"\"\", \n",
    "    params={\"openAiApiKey\":OPENAI_API_KEY,\n",
    "            \"question\": question,\n",
    "            \"top_k\": 5\n",
    "            })"
   ]
  },
  {
   "cell_type": "code",
   "execution_count": 31,
   "metadata": {},
   "outputs": [],
   "source": [
    "question = \"What movies are about adventure?\""
   ]
  },
  {
   "cell_type": "code",
   "execution_count": 35,
   "metadata": {},
   "outputs": [
    {
     "data": {
      "text/plain": [
       "[{'movie.title': 'RescueDawn',\n",
       "  'movie.tagline': \"Based on the extraordinary true story of one man's fight for freedom\",\n",
       "  'score': 0.8929443359375},\n",
       " {'movie.title': 'Cast Away',\n",
       "  'movie.tagline': 'At the edge of the world, his journey begins.',\n",
       "  'score': 0.8919219970703125},\n",
       " {'movie.title': 'Ninja Assassin',\n",
       "  'movie.tagline': 'Prepare to enter a secret world of assassins',\n",
       "  'score': 0.8810272216796875},\n",
       " {'movie.title': 'Joe Versus the Volcano',\n",
       "  'movie.tagline': 'A story of love, lava and burning desire.',\n",
       "  'score': 0.8800506591796875},\n",
       " {'movie.title': 'As Good as It Gets',\n",
       "  'movie.tagline': 'A comedy from the heart that goes for the throat.',\n",
       "  'score': 0.8792724609375}]"
      ]
     },
     "execution_count": 35,
     "metadata": {},
     "output_type": "execute_result"
    }
   ],
   "source": [
    "kg.query(\"\"\"\n",
    "    WITH genai.vector.encode(\n",
    "        $question,\n",
    "        \"OpenAI\",\n",
    "        {\n",
    "            token: $openAiApiKey\n",
    "        }) AS question_embedding\n",
    "    CALL db.index.vector.queryNodes(\n",
    "        'movie_tagline_embeddings',\n",
    "        $top_k,\n",
    "        question_embedding\n",
    "    ) YIELD node AS movie, score\n",
    "    RETURN movie.title, movie.tagline, score\n",
    "\"\"\",\n",
    "params={\"openAiApiKey\": OPENAI_API_KEY,\n",
    "        \"question\": question,\n",
    "        \"top_k\": 5})"
   ]
  },
  {
   "cell_type": "code",
   "execution_count": null,
   "metadata": {},
   "outputs": [],
   "source": []
  },
  {
   "cell_type": "code",
   "execution_count": null,
   "metadata": {},
   "outputs": [],
   "source": []
  }
 ],
 "metadata": {
  "kernelspec": {
   "display_name": "langchain_community",
   "language": "python",
   "name": "python3"
  },
  "language_info": {
   "codemirror_mode": {
    "name": "ipython",
    "version": 3
   },
   "file_extension": ".py",
   "mimetype": "text/x-python",
   "name": "python",
   "nbconvert_exporter": "python",
   "pygments_lexer": "ipython3",
   "version": "3.12.9"
  }
 },
 "nbformat": 4,
 "nbformat_minor": 2
}
